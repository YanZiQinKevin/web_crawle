{
 "cells": [
  {
   "cell_type": "code",
   "execution_count": 1,
   "metadata": {},
   "outputs": [],
   "source": [
    "import requests\n",
    "import time\n",
    "from bs4 import BeautifulSoup\n",
    "import sys,os\n",
    "from IPython.display import clear_output\n",
    "def PTT():\n",
    "    res =requests.get('https://www.ptt.cc/bbs/Stock/index.html',verify=True)\n",
    "    soup = BeautifulSoup(res.text,\"lxml\")\n",
    "    for entry in soup.select('.r-ent'):\n",
    "        if entry.select('.nrec')[0].text == '爆':\n",
    "            print (\"!!!\")\n",
    "            print (entry.select('.nrec')[0].text, entry.select('.title')[0].text,entry.select('.date')[0].text)\n",
    "        elif entry.select('.nrec')[0].text == '':\n",
    "            pass\n",
    "        elif int(entry.select('.nrec')[0].text) >20:\n",
    "            print (entry.select('.nrec')[0].text, entry.select('.title')[0].text,entry.select('.date')[0].text)"
   ]
  },
  {
   "cell_type": "code",
   "execution_count": 2,
   "metadata": {},
   "outputs": [
    {
     "name": "stdout",
     "output_type": "stream",
     "text": [
      "25 \n",
      "[新聞] 大摩將鴻海目標價調降到118元維持優於大盤\n",
      "  2/21\n",
      "!!!\n",
      "爆 \n",
      "[閒聊] 2018/02/21 盤中閒聊\n",
      "  2/21\n",
      "65 \n",
      "Re: [標的] 1597直得（更新：漲停啦！）\n",
      "  2/21\n",
      "21 \n",
      "[新聞] 橘子本季獲利拚新高\n",
      "  2/21\n",
      "22 \n",
      "Re: [標的] 6180 橘子 短多（停損）\n",
      "  2/21\n",
      "30 \n",
      "[請益] 詐騙公司 - 易帆財經顧問有限公司 \n",
      "  2/21\n",
      "!!!\n",
      "爆 \n",
      "[閒聊] 2018/02/21 盤中閒聊\n",
      "  2/21\n"
     ]
    },
    {
     "ename": "KeyboardInterrupt",
     "evalue": "",
     "output_type": "error",
     "traceback": [
      "\u001b[0;31m---------------------------------------------------------------------------\u001b[0m",
      "\u001b[0;31mKeyboardInterrupt\u001b[0m                         Traceback (most recent call last)",
      "\u001b[0;32m<ipython-input-2-3baac62df971>\u001b[0m in \u001b[0;36m<module>\u001b[0;34m()\u001b[0m\n\u001b[1;32m      3\u001b[0m     \u001b[0mPTT\u001b[0m\u001b[0;34m(\u001b[0m\u001b[0;34m)\u001b[0m\u001b[0;34m\u001b[0m\u001b[0m\n\u001b[1;32m      4\u001b[0m \u001b[0;34m\u001b[0m\u001b[0m\n\u001b[0;32m----> 5\u001b[0;31m     \u001b[0mtime\u001b[0m\u001b[0;34m.\u001b[0m\u001b[0msleep\u001b[0m\u001b[0;34m(\u001b[0m\u001b[0;36m10\u001b[0m\u001b[0;34m)\u001b[0m\u001b[0;34m\u001b[0m\u001b[0m\n\u001b[0m\u001b[1;32m      6\u001b[0m \u001b[0;34m\u001b[0m\u001b[0m\n",
      "\u001b[0;31mKeyboardInterrupt\u001b[0m: "
     ]
    }
   ],
   "source": [
    "while True:\n",
    "    clear_output()\n",
    "    PTT()\n",
    "    \n",
    "    time.sleep(10)\n",
    "    "
   ]
  },
  {
   "cell_type": "code",
   "execution_count": null,
   "metadata": {},
   "outputs": [],
   "source": []
  }
 ],
 "metadata": {
  "kernelspec": {
   "display_name": "Python 3",
   "language": "python",
   "name": "python3"
  },
  "language_info": {
   "codemirror_mode": {
    "name": "ipython",
    "version": 3
   },
   "file_extension": ".py",
   "mimetype": "text/x-python",
   "name": "python",
   "nbconvert_exporter": "python",
   "pygments_lexer": "ipython3",
   "version": "3.6.3"
  }
 },
 "nbformat": 4,
 "nbformat_minor": 2
}
